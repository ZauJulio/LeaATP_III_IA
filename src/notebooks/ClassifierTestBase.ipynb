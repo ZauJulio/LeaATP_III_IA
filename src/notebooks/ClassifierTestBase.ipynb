{
 "cells": [
  {
   "cell_type": "markdown",
   "metadata": {},
   "source": [
    "# Solar Power Generation Data: Knn\n",
    "## Solar power generation and sensor data for two power plants.\n",
    "\n",
    "Description\n",
    "This data has been gathered at two solar power plants in India over a 34 day period. It has two pairs of files - each pair has one power generation dataset and one sensor readings dataset. The power generation datasets are gathered at the inverter level - each inverter has multiple lines of solar panels attached to it. The sensor data is gathered at a plant level - single array of sensors optimally placed at the plant.\n",
    "\n",
    "There are a few areas of concern at the solar power plant -\n",
    "\n",
    "- Can we predict the power generation for next couple of days? - this allows for better grid management\n",
    "- Can we identify generation profiles?\n",
    "- Can we identify the need for panel cleaning/maintenance?\n",
    "- Can we identify faulty or suboptimally performing equipment?\n",
    "\n",
    "[Link to source](https://www.kaggle.com/anikannal/solar-power-generation-data)"
   ]
  },
  {
   "cell_type": "code",
   "execution_count": null,
   "metadata": {},
   "outputs": [],
   "source": [
    "import sys  \n",
    "\n",
    "sys.path.append('../')"
   ]
  },
  {
   "cell_type": "code",
   "execution_count": null,
   "metadata": {},
   "outputs": [],
   "source": [
    "from sklearn.neighbors import KNeighborsClassifier\n",
    "from sklearn.tree import DecisionTreeClassifier \n",
    "from sklearn.naive_bayes import GaussianNB\n",
    "import matplotlib.pyplot as plt\n",
    "import pandas as pd\n",
    "import numpy as np\n",
    "import math\n",
    "\n",
    "from read import (\n",
    "    sourcesGen01Cleaned,\n",
    "    sourcesGen02Cleaned,\n",
    "    groupsWeather01Cleaned,\n",
    "    groupsWeather02Cleaned\n",
    ")\n"
   ]
  },
  {
   "cell_type": "code",
   "execution_count": null,
   "metadata": {},
   "outputs": [],
   "source": [
    "X = groupsWeather01Cleaned[\"IRRADIATION\"].T\n",
    "y = sourcesGen01Cleaned[\"AC_POWER\"][list(sourcesGen01Cleaned[\"AC_POWER\"].keys())[0]].T\n",
    "\n",
    "X0 = X.iloc[0].values\n",
    "y0 = y.iloc[0].values\n",
    "\n",
    "X1 = X.iloc[1].values\n",
    "y1 = y.iloc[1].values\n",
    "\n",
    "plt.plot(X1, y1, 'o', color='red', label='Original data')\n",
    "plt.xlabel(\"IRRADIATION\")\n",
    "plt.ylabel(\"AC_POWER\")\n",
    "\n",
    "neigh = KNeighborsClassifier(n_neighbors=3)\n",
    "neigh.fit(X0.reshape(-1, 1), y0.astype(int))\n",
    "\n",
    "pred = neigh.predict(X1.reshape(-1, 1))\n",
    "knnScore = neigh.score(X0.reshape(-1, 1), y0.astype(int))\n",
    "\n",
    "plt.plot(X1, pred, 'o', color='blue', label='Predicted data')\n",
    "plt.legend()\n",
    "plt.show()\n"
   ]
  },
  {
   "cell_type": "code",
   "execution_count": null,
   "metadata": {},
   "outputs": [],
   "source": [
    "X = groupsWeather01Cleaned[\"IRRADIATION\"].T\n",
    "y = sourcesGen01Cleaned[\"AC_POWER\"][list(sourcesGen01Cleaned[\"AC_POWER\"].keys())[0]].T\n",
    "\n",
    "X0 = X.iloc[0].values\n",
    "y0 = y.iloc[0].values\n",
    "\n",
    "X1 = X.iloc[1].values\n",
    "y1 = y.iloc[1].values\n",
    "\n",
    "plt.plot(X1, y1, 'o', color='red', label='Original data')\n",
    "plt.xlabel(\"IRRADIATION\")\n",
    "plt.ylabel(\"AC_POWER\")\n",
    "\n",
    "clf = GaussianNB()\n",
    "clf.fit(X0.reshape(-1, 1), y0.astype(int))\n",
    "\n",
    "pred = clf.predict(X1.reshape(-1, 1))\n",
    "naiveBayesScore = clf.score(X0.reshape(-1, 1), y0.astype(int))\n",
    "\n",
    "plt.plot(X1, pred, 'x', color='cyan', label='Predicted data')\n",
    "plt.legend()\n",
    "plt.show()\n"
   ]
  },
  {
   "cell_type": "code",
   "execution_count": null,
   "metadata": {},
   "outputs": [],
   "source": [
    "X = groupsWeather01Cleaned[\"IRRADIATION\"].T\n",
    "y = sourcesGen01Cleaned[\"AC_POWER\"][list(sourcesGen01Cleaned[\"AC_POWER\"].keys())[0]].T\n",
    "\n",
    "X0 = X.iloc[0].values\n",
    "y0 = y.iloc[0].values\n",
    "\n",
    "X1 = X.iloc[1].values\n",
    "y1 = y.iloc[1].values\n",
    "\n",
    "plt.plot(X1, y1, 'o', color='red', label='Original data')\n",
    "plt.xlabel(\"IRRADIATION\")\n",
    "plt.ylabel(\"AC_POWER\")\n",
    "\n",
    "clf = DecisionTreeClassifier(random_state=0, criterion=\"entropy\", max_depth=4)\n",
    "clf.fit(X0.reshape(-1, 1), y0.astype(int))\n",
    "\n",
    "pred = clf.predict(X1.reshape(-1, 1))\n",
    "treeScore = clf.score(X0.reshape(-1, 1), y0.astype(int))\n",
    "\n",
    "plt.plot(X1, pred, 'x', color='blue', label='Predicted data')\n",
    "plt.legend()\n",
    "plt.show()\n"
   ]
  },
  {
   "cell_type": "code",
   "execution_count": null,
   "metadata": {},
   "outputs": [],
   "source": [
    "height = [knnScore, naiveBayesScore, treeScore]\n",
    "bars = ('KNeighbors', 'Naive Bayes', 'Tree Decision')\n",
    "x_pos = np.arange(len(bars))\n",
    " \n",
    "plt.bar(x_pos, height)\n",
    "plt.xticks(x_pos, bars)\n",
    "plt.show()"
   ]
  }
 ],
 "metadata": {
  "interpreter": {
   "hash": "3014a5292071ca994bb818cd127461c536110eb9ed89296a2dc5b59e0827a9cb"
  },
  "kernelspec": {
   "display_name": "Python 3",
   "language": "python",
   "name": "python3"
  },
  "language_info": {
   "codemirror_mode": {
    "name": "ipython",
    "version": 3
   },
   "file_extension": ".py",
   "mimetype": "text/x-python",
   "name": "python",
   "nbconvert_exporter": "python",
   "pygments_lexer": "ipython3",
   "version": "3.9.6"
  }
 },
 "nbformat": 4,
 "nbformat_minor": 2
}
