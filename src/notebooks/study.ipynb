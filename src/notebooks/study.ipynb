{
 "cells": [
  {
   "cell_type": "markdown",
   "metadata": {},
   "source": [
    "# Solar Power Generation Data: Study\n",
    "## Solar power generation and sensor data for two power plants.\n",
    "\n",
    "Description\n",
    "This data has been gathered at two solar power plants in India over a 34 day period. It has two pairs of files - each pair has one power generation dataset and one sensor readings dataset. The power generation datasets are gathered at the inverter level - each inverter has multiple lines of solar panels attached to it. The sensor data is gathered at a plant level - single array of sensors optimally placed at the plant.\n",
    "\n",
    "There are a few areas of concern at the solar power plant -\n",
    "\n",
    "- Can we predict the power generation for next couple of days? - this allows for better grid management\n",
    "- Can we identify generation profiles?\n",
    "- Can we identify the need for panel cleaning/maintenance?\n",
    "- Can we identify faulty or suboptimally performing equipment?\n",
    "\n",
    "[Link to source](https://www.kaggle.com/anikannal/solar-power-generation-data)"
   ]
  },
  {
   "cell_type": "code",
   "execution_count": null,
   "metadata": {},
   "outputs": [],
   "source": [
    "import matplotlib.pyplot as plt\n",
    "import pandas as pd\n",
    "import numpy as np"
   ]
  },
  {
   "cell_type": "code",
   "execution_count": null,
   "metadata": {},
   "outputs": [],
   "source": [
    "dfGen01 = pd.read_csv(\"/home/zau/Desktop/UFRN_S/TAP3_2021.1/data/source/Plant_1_Generation_Data.csv\", index_col=\"SOURCE_KEY\")\n",
    "dfGen02 = pd.read_csv(\"/home/zau/Desktop/UFRN_S/TAP3_2021.1/data/source/Plant_2_Generation_Data.csv\", index_col=\"SOURCE_KEY\")"
   ]
  },
  {
   "cell_type": "markdown",
   "metadata": {},
   "source": [
    "## Removing the Plant_ID column (contains the same value throughout the dataset)"
   ]
  },
  {
   "cell_type": "code",
   "execution_count": null,
   "metadata": {},
   "outputs": [],
   "source": [
    "del dfGen01['PLANT_ID']\n",
    "del dfGen02['PLANT_ID']"
   ]
  },
  {
   "cell_type": "markdown",
   "metadata": {},
   "source": [
    "## Column conversion from DateTime string to DateTime type"
   ]
  },
  {
   "cell_type": "code",
   "execution_count": null,
   "metadata": {},
   "outputs": [],
   "source": [
    "dfGen01['DATE_TIME'] = pd.to_datetime(dfGen01['DATE_TIME'], format='%d-%m-%Y %H:%M')\n",
    "dfGen02['DATE_TIME'] = pd.to_datetime(dfGen02['DATE_TIME'], format='%Y-%m-%d %H:%M:%S')"
   ]
  },
  {
   "cell_type": "markdown",
   "metadata": {},
   "source": [
    "## Separation of the date and time in different columns\n"
   ]
  },
  {
   "cell_type": "code",
   "execution_count": null,
   "metadata": {},
   "outputs": [],
   "source": [
    "dfGen01['DATE'] = dfGen01['DATE_TIME'].dt.date\n",
    "dfGen01['TIME'] = dfGen01['DATE_TIME'].dt.time\n",
    "\n",
    "dfGen02['DATE'] = dfGen02['DATE_TIME'].dt.date\n",
    "dfGen02['TIME'] = dfGen02['DATE_TIME'].dt.time"
   ]
  },
  {
   "cell_type": "markdown",
   "metadata": {},
   "source": [
    "# Initial verification of data structure after conversion\n"
   ]
  },
  {
   "cell_type": "code",
   "execution_count": null,
   "metadata": {},
   "outputs": [],
   "source": [
    "dfGen01.info(), dfGen01.columns"
   ]
  },
  {
   "cell_type": "code",
   "execution_count": null,
   "metadata": {},
   "outputs": [],
   "source": [
    "dfGen02.info(), dfGen02.columns"
   ]
  },
  {
   "cell_type": "markdown",
   "metadata": {},
   "source": [
    "# Absolute frequency check of data received by sensors\n",
    "\n",
    "It is noticeable that there is inconsistency in the data\n"
   ]
  },
  {
   "cell_type": "code",
   "execution_count": null,
   "metadata": {},
   "outputs": [],
   "source": [
    "dfGen01.index.value_counts()"
   ]
  },
  {
   "cell_type": "code",
   "execution_count": null,
   "metadata": {},
   "outputs": [],
   "source": [
    "dfGen02.index.value_counts()"
   ]
  },
  {
   "cell_type": "markdown",
   "metadata": {},
   "source": [
    "# Initial DataSet View"
   ]
  },
  {
   "cell_type": "code",
   "execution_count": null,
   "metadata": {},
   "outputs": [],
   "source": [
    "dfGen01"
   ]
  },
  {
   "cell_type": "code",
   "execution_count": null,
   "metadata": {},
   "outputs": [],
   "source": [
    "dfGen02"
   ]
  },
  {
   "cell_type": "markdown",
   "metadata": {},
   "source": [
    "## Add Weekday column"
   ]
  },
  {
   "cell_type": "code",
   "execution_count": null,
   "metadata": {},
   "outputs": [],
   "source": [
    "dfGen01[\"WEEKDAY\"] = dfGen01['DATE_TIME'].dt.dayofweek\n",
    "dfGen02[\"WEEKDAY\"] = dfGen02['DATE_TIME'].dt.dayofweek\n"
   ]
  }
 ],
 "metadata": {
  "interpreter": {
   "hash": "3014a5292071ca994bb818cd127461c536110eb9ed89296a2dc5b59e0827a9cb"
  },
  "kernelspec": {
   "display_name": "Python 3",
   "language": "python",
   "name": "python3"
  },
  "language_info": {
   "codemirror_mode": {
    "name": "ipython",
    "version": 3
   },
   "file_extension": ".py",
   "mimetype": "text/x-python",
   "name": "python",
   "nbconvert_exporter": "python",
   "pygments_lexer": "ipython3",
   "version": "3.9.6"
  }
 },
 "nbformat": 4,
 "nbformat_minor": 2
}
