{
 "cells": [
  {
   "cell_type": "markdown",
   "metadata": {},
   "source": [
    "# Solar Power Generation Data: View\n",
    "## Solar power generation and sensor data for two power plants.\n",
    "\n",
    "Description\n",
    "This data has been gathered at two solar power plants in India over a 34 day period. It has two pairs of files - each pair has one power generation dataset and one sensor readings dataset. The power generation datasets are gathered at the inverter level - each inverter has multiple lines of solar panels attached to it. The sensor data is gathered at a plant level - single array of sensors optimally placed at the plant.\n",
    "\n",
    "There are a few areas of concern at the solar power plant -\n",
    "\n",
    "- Can we predict the power generation for next couple of days? - this allows for better grid management\n",
    "- Can we identify generation profiles?\n",
    "- Can we identify the need for panel cleaning/maintenance?\n",
    "- Can we identify faulty or suboptimally performing equipment?\n",
    "\n",
    "[Link to source](https://www.kaggle.com/anikannal/solar-power-generation-data)"
   ]
  },
  {
   "cell_type": "code",
   "execution_count": null,
   "metadata": {},
   "outputs": [],
   "source": [
    "import sys  \n",
    "\n",
    "sys.path.append('../')"
   ]
  },
  {
   "cell_type": "code",
   "execution_count": null,
   "metadata": {},
   "outputs": [],
   "source": [
    "import matplotlib.pyplot as plt\n",
    "import pandas as pd\n",
    "import numpy as np\n",
    "import math\n",
    "\n",
    "from read import (\n",
    "    dfGen01,\n",
    "    dfGen02,\n",
    "    dfWheather01,\n",
    "    dfWheather02,\n",
    "    sourcesGen01,\n",
    "    sourcesGen02,\n",
    "    groupsWeather01,\n",
    "    groupsWeather02,\n",
    "    sourcesDailyYield\n",
    ")\n"
   ]
  },
  {
   "cell_type": "markdown",
   "metadata": {},
   "source": [
    "## Set figure size and aspect\n"
   ]
  },
  {
   "cell_type": "code",
   "execution_count": null,
   "metadata": {},
   "outputs": [],
   "source": [
    "plt.rcParams[\"figure.figsize\"] = (21,3)"
   ]
  },
  {
   "cell_type": "markdown",
   "metadata": {},
   "source": [
    "# 1. GEN"
   ]
  },
  {
   "cell_type": "markdown",
   "metadata": {},
   "source": [
    "## 1.1. Initial view\n"
   ]
  },
  {
   "cell_type": "code",
   "execution_count": null,
   "metadata": {},
   "outputs": [],
   "source": [
    "fig, axes = plt.subplots(nrows=2, ncols=2, figsize=(25, 5))\n",
    "fig.tight_layout()\n",
    "\n",
    "axes[0][0].set_title(\"Gen 01\")\n",
    "dfGen01['AC_POWER'].plot(color=\"red\", ax=axes[0][0])\n",
    "dfGen01['DC_POWER'].plot(color=\"green\", ax=axes[1][0])\n",
    "\n",
    "axes[0][1].set_title(\"Gen 02\")\n",
    "dfGen02['AC_POWER'].plot(color=\"red\", ax=axes[0][1])\n",
    "dfGen02['DC_POWER'].plot(color=\"green\", ax=axes[1][1])\n",
    "\n",
    "axes[0][0].set_ylabel(\"AC_POWER\", rotation=90, size='large')\n",
    "axes[1][0].set_ylabel(\"DC_POWER\", rotation=90, size='large')\n",
    "\n",
    "plt.show()\n"
   ]
  },
  {
   "cell_type": "markdown",
   "metadata": {},
   "source": [
    "## 1.2. View heatmap by sources in time-range"
   ]
  },
  {
   "cell_type": "markdown",
   "metadata": {},
   "source": [
    "### GEN01"
   ]
  },
  {
   "cell_type": "markdown",
   "metadata": {},
   "source": [
    "#### AC"
   ]
  },
  {
   "cell_type": "code",
   "execution_count": null,
   "metadata": {},
   "outputs": [],
   "source": [
    "square = math.ceil(\n",
    "    math.sqrt(\n",
    "        len(list(sourcesGen01[\"AC_POWER\"].keys()))\n",
    "))\n",
    "\n",
    "fig, axes = plt.subplots(nrows=square, ncols=square, figsize=(20, 30))\n",
    "fig.tight_layout()\n",
    "\n",
    "for axesRow in axes:\n",
    "    for ax, source in zip(axesRow, sourcesGen01[\"AC_POWER\"].items()):\n",
    "        ax.imshow(source[1], cmap=\"hot\",  interpolation='bilinear')\n",
    "        ax.set_ylabel(source[0])\n",
    "\n",
    "plt.show()\n"
   ]
  },
  {
   "cell_type": "markdown",
   "metadata": {},
   "source": [
    "#### DC"
   ]
  },
  {
   "cell_type": "code",
   "execution_count": null,
   "metadata": {},
   "outputs": [],
   "source": [
    "square = math.ceil(\n",
    "    math.sqrt(\n",
    "        len(list(sourcesGen01[\"AC_POWER\"].keys()))\n",
    "))\n",
    "\n",
    "fig, axes = plt.subplots(nrows=square, ncols=square, figsize=(20, 30))\n",
    "fig.tight_layout()\n",
    "\n",
    "for axesRow in axes:\n",
    "    for ax, source in zip(axesRow, sourcesGen01[\"DC_POWER\"].items()):\n",
    "        ax.imshow(source[1], cmap=\"inferno\", interpolation='bilinear')\n",
    "        ax.set_ylabel(source[0])\n",
    "\n",
    "plt.show()\n"
   ]
  },
  {
   "cell_type": "code",
   "execution_count": null,
   "metadata": {},
   "outputs": [],
   "source": [
    "square = math.ceil(\n",
    "    math.sqrt(\n",
    "        len(list(sourcesGen01[\"AC_POWER\"].keys()))\n",
    "))\n",
    "\n",
    "fig, axes = plt.subplots(nrows=square, ncols=square, figsize=(20, 30))\n",
    "fig.tight_layout()\n",
    "\n",
    "for axesRow in axes:\n",
    "    for ax, source in zip(axesRow, sourcesGen01[\"AC_POWER\"].items()):\n",
    "        ax.imshow(source[1], cmap=\"hot\")\n",
    "        ax.set_ylabel(source[0])\n",
    "\n",
    "plt.show()\n"
   ]
  },
  {
   "cell_type": "markdown",
   "metadata": {},
   "source": [
    "### GEN02\n",
    "\n",
    "The view of the DataSet Gen02 \"Plant_2_Generation_Data.csv\" is unusable.Shows signs that the missing values in the dataset have been replaced with 0, a valid value for measurements.This implies that the DataSet 02, even if it were treated, would aggregate incorrect information to the execution.\n",
    "\n",
    "Dataset 02 will be discarded, which implies less data for training and testing, important for approaches such as cross-validation.\n"
   ]
  },
  {
   "cell_type": "markdown",
   "metadata": {},
   "source": [
    "#### AC"
   ]
  },
  {
   "cell_type": "code",
   "execution_count": null,
   "metadata": {},
   "outputs": [],
   "source": [
    "square = math.ceil(\n",
    "    math.sqrt(\n",
    "        len(list(sourcesGen01[\"AC_POWER\"].keys()))\n",
    "    ))\n",
    "\n",
    "fig, axes = plt.subplots(nrows=square, ncols=square, figsize=(20, 30))\n",
    "fig.tight_layout()\n",
    "\n",
    "for axesRow in axes:\n",
    "    for ax, source in zip(axesRow, sourcesGen02[\"AC_POWER\"].items()):\n",
    "        ax.imshow(source[1], cmap=\"hot\", interpolation=\"bilinear\")\n",
    "        ax.set_ylabel(source[0])\n",
    "\n",
    "plt.show()\n"
   ]
  },
  {
   "cell_type": "markdown",
   "metadata": {},
   "source": [
    "#### DC"
   ]
  },
  {
   "cell_type": "code",
   "execution_count": null,
   "metadata": {},
   "outputs": [],
   "source": [
    "square = math.ceil(\n",
    "    math.sqrt(\n",
    "        len(list(sourcesGen01[\"AC_POWER\"].keys()))\n",
    "    ))\n",
    "\n",
    "fig, axes = plt.subplots(nrows=square, ncols=square, figsize=(20, 30))\n",
    "fig.tight_layout()\n",
    "\n",
    "for axesRow in axes:\n",
    "    for ax, source in zip(axesRow, sourcesGen02[\"DC_POWER\"].items()):\n",
    "        ax.imshow(source[1], cmap=\"inferno\", interpolation=\"bilinear\")\n",
    "        ax.set_ylabel(source[0])\n",
    "\n",
    "plt.show()\n"
   ]
  },
  {
   "cell_type": "markdown",
   "metadata": {},
   "source": [
    "## 1.3. Visualization of missing elements\n"
   ]
  },
  {
   "cell_type": "markdown",
   "metadata": {},
   "source": [
    "### GEN01"
   ]
  },
  {
   "cell_type": "markdown",
   "metadata": {},
   "source": [
    "#### AC"
   ]
  },
  {
   "cell_type": "code",
   "execution_count": null,
   "metadata": {},
   "outputs": [],
   "source": [
    "square = math.ceil(\n",
    "    math.sqrt(\n",
    "        len(list(sourcesGen01[\"AC_POWER\"].keys()))\n",
    "    ))\n",
    "\n",
    "fig, axes = plt.subplots(nrows=square, ncols=square, figsize=(20, 30))\n",
    "fig.tight_layout()\n",
    "\n",
    "for axesRow in axes:\n",
    "    for ax, source in zip(axesRow, sourcesGen01[\"AC_POWER\"].items()):\n",
    "        ax.imshow(source[1].isnull().values)\n",
    "        ax.set_ylabel(source[0])\n",
    "\n",
    "plt.subplots_adjust(top=0.85)\n",
    "plt.show()\n"
   ]
  },
  {
   "cell_type": "markdown",
   "metadata": {},
   "source": [
    "#### DC"
   ]
  },
  {
   "cell_type": "code",
   "execution_count": null,
   "metadata": {},
   "outputs": [],
   "source": [
    "square = math.ceil(\n",
    "    math.sqrt(\n",
    "        len(list(sourcesGen01[\"DC_POWER\"].keys()))\n",
    "    ))\n",
    "\n",
    "fig, axes = plt.subplots(nrows=square, ncols=square, figsize=(20, 30))\n",
    "fig.tight_layout()\n",
    "\n",
    "for axesRow in axes:\n",
    "    for ax, source in zip(axesRow, sourcesGen01[\"DC_POWER\"].items()):\n",
    "        ax.imshow(source[1].isnull().values)\n",
    "        ax.set_ylabel(source[0])\n",
    "\n",
    "plt.show()\n"
   ]
  },
  {
   "cell_type": "markdown",
   "metadata": {},
   "source": [
    "### GEN02"
   ]
  },
  {
   "cell_type": "markdown",
   "metadata": {},
   "source": [
    "#### AC"
   ]
  },
  {
   "cell_type": "code",
   "execution_count": null,
   "metadata": {},
   "outputs": [],
   "source": [
    "square = math.ceil(\n",
    "    math.sqrt(\n",
    "        len(list(sourcesGen01[\"AC_POWER\"].keys()))\n",
    "    ))\n",
    "\n",
    "fig, axes = plt.subplots(nrows=square, ncols=square, figsize=(20, 30))\n",
    "fig.tight_layout()\n",
    "\n",
    "for axesRow in axes:\n",
    "    for ax, source in zip(axesRow, sourcesGen02[\"AC_POWER\"].items()):\n",
    "        ax.imshow(source[1].isnull().values)\n",
    "        ax.set_ylabel(source[0])\n",
    "\n",
    "plt.subplots_adjust(top=0.85)\n",
    "plt.show()\n"
   ]
  },
  {
   "cell_type": "markdown",
   "metadata": {},
   "source": [
    "#### DC"
   ]
  },
  {
   "cell_type": "code",
   "execution_count": null,
   "metadata": {},
   "outputs": [],
   "source": [
    "square = math.ceil(\n",
    "    math.sqrt(\n",
    "        len(list(sourcesGen01[\"DC_POWER\"].keys()))\n",
    "    ))\n",
    "\n",
    "fig, axes = plt.subplots(nrows=square, ncols=square, figsize=(20, 30))\n",
    "fig.tight_layout()\n",
    "\n",
    "for axesRow in axes:\n",
    "    for ax, source in zip(axesRow, sourcesGen02[\"DC_POWER\"].items()):\n",
    "        ax.imshow(source[1].isnull().values)\n",
    "        ax.set_ylabel(source[0])\n",
    "\n",
    "plt.subplots_adjust(top=0.85)\n",
    "plt.show()\n"
   ]
  },
  {
   "cell_type": "markdown",
   "metadata": {},
   "source": [
    "## 1.4. Interpolate"
   ]
  },
  {
   "cell_type": "markdown",
   "metadata": {},
   "source": [
    "### GEN01"
   ]
  },
  {
   "cell_type": "markdown",
   "metadata": {},
   "source": [
    "#### AC"
   ]
  },
  {
   "cell_type": "code",
   "execution_count": null,
   "metadata": {},
   "outputs": [],
   "source": [
    "square = math.ceil(\n",
    "    math.sqrt(\n",
    "        len(list(sourcesGen01[\"AC_POWER\"].keys()))\n",
    "    ))\n",
    "\n",
    "fig, axes = plt.subplots(nrows=square, ncols=square, figsize=(20, 30))\n",
    "fig.tight_layout()\n",
    "\n",
    "# Works with daily and high resolution data for interpolar given interval length.\n",
    "\n",
    "for axesRow in axes:\n",
    "    for ax, source in zip(axesRow, sourcesGen01[\"AC_POWER\"].items()):\n",
    "        df = source[1].copy(deep=True)\n",
    "        df.index = pd.to_datetime(df.index,  format='%H:%M:%S')\n",
    "        ax.imshow(df.interpolate(method=\"time\").interpolate(method=\"linear\", axis=1), cmap=\"hot\")\n",
    "        ax.set_ylabel(source[0])\n",
    "\n",
    "plt.subplots_adjust(top=0.85)\n",
    "plt.show()\n"
   ]
  },
  {
   "cell_type": "markdown",
   "metadata": {},
   "source": [
    "#### DC"
   ]
  },
  {
   "cell_type": "code",
   "execution_count": null,
   "metadata": {},
   "outputs": [],
   "source": [
    "rowsSquare = math.ceil(math.sqrt(len(list(sourcesGen01[\"DC_POWER\"].keys()))))\n",
    "\n",
    "fig, axes = plt.subplots(nrows=rowsSquare, ncols=rowsSquare, figsize=(20, 30))\n",
    "fig.tight_layout()\n",
    "\n",
    "# Works with daily and high resolution data for interpolar given interval length.\n",
    "\n",
    "for axesRow in axes:\n",
    "    for ax, source in zip(axesRow, sourcesGen01[\"DC_POWER\"].items()):\n",
    "        df = source[1].copy(deep=True)\n",
    "        df.index = pd.to_datetime(df.index,  format='%H:%M:%S')\n",
    "        ax.imshow(df.interpolate(method=\"time\").interpolate(method=\"linear\", axis=1), cmap=\"hot\")\n",
    "        ax.set_ylabel(source[0])\n",
    "\n",
    "plt.subplots_adjust(top=0.85)\n",
    "plt.show()\n"
   ]
  },
  {
   "cell_type": "markdown",
   "metadata": {},
   "source": [
    "### GEN02"
   ]
  },
  {
   "cell_type": "markdown",
   "metadata": {},
   "source": [
    "#### AC"
   ]
  },
  {
   "cell_type": "code",
   "execution_count": null,
   "metadata": {},
   "outputs": [],
   "source": [
    "rowsSquare = math.ceil(math.sqrt(len(list(sourcesGen02[\"AC_POWER\"].keys()))))\n",
    "\n",
    "fig, axes = plt.subplots(nrows=rowsSquare, ncols=rowsSquare, figsize=(20, 30))\n",
    "fig.tight_layout()\n",
    "\n",
    "# Works with daily and high resolution data for interpolar given interval length.\n",
    "\n",
    "for axesRow in axes:\n",
    "    for ax, source in zip(axesRow, sourcesGen02[\"AC_POWER\"].items()):\n",
    "        df = source[1].copy(deep=True)\n",
    "        df.index = pd.to_datetime(df.index,  format='%H:%M:%S')\n",
    "        ax.imshow(df.interpolate(method=\"time\").interpolate(method=\"linear\", axis=1), cmap=\"hot\")\n",
    "        ax.set_ylabel(source[0])\n",
    "\n",
    "plt.subplots_adjust(top=0.85)\n",
    "plt.show()\n"
   ]
  },
  {
   "cell_type": "markdown",
   "metadata": {},
   "source": [
    "#### DC"
   ]
  },
  {
   "cell_type": "code",
   "execution_count": null,
   "metadata": {},
   "outputs": [],
   "source": [
    "rowsSquare = math.ceil(math.sqrt(len(list(sourcesGen02[\"DC_POWER\"].keys()))))\n",
    "\n",
    "fig, axes = plt.subplots(nrows=rowsSquare, ncols=rowsSquare, figsize=(20, 30))\n",
    "fig.tight_layout()\n",
    "\n",
    "# Works with daily and high resolution data for interpolar given interval length.\n",
    "\n",
    "for axesRow in axes:\n",
    "    for ax, source in zip(axesRow, sourcesGen02[\"DC_POWER\"].items()):\n",
    "        df = source[1].copy(deep=True)\n",
    "        df.index = pd.to_datetime(df.index,  format='%H:%M:%S')\n",
    "        ax.imshow(df.interpolate(method=\"time\").interpolate(method=\"linear\", axis=1), cmap=\"hot\")\n",
    "        ax.set_ylabel(source[0])\n",
    "\n",
    "plt.subplots_adjust(top=0.85)\n",
    "plt.show()\n"
   ]
  },
  {
   "cell_type": "markdown",
   "metadata": {},
   "source": [
    "# 2. Weather"
   ]
  },
  {
   "cell_type": "markdown",
   "metadata": {},
   "source": [
    "## 2.1. Initial view\n"
   ]
  },
  {
   "cell_type": "code",
   "execution_count": null,
   "metadata": {},
   "outputs": [],
   "source": [
    "fig, axes = plt.subplots(nrows=3, ncols=2, figsize=(25, 5))\n",
    "fig.tight_layout()\n",
    "\n",
    "axes[0][0].set_title(\"Wheather 01\")\n",
    "dfWheather01['AMBIENT_TEMPERATURE'].plot(color=\"red\", ax=axes[0][0])\n",
    "dfWheather01['MODULE_TEMPERATURE'].plot(color=\"green\", ax=axes[1][0])\n",
    "dfWheather01['IRRADIATION'].plot(color=\"orange\", ax=axes[2][0])\n",
    "\n",
    "axes[0][1].set_title(\"Wheather 02\")\n",
    "dfWheather02['AMBIENT_TEMPERATURE'].plot(color=\"red\", ax=axes[0][1])\n",
    "dfWheather02['MODULE_TEMPERATURE'].plot(color=\"green\", ax=axes[1][1])\n",
    "dfWheather02['IRRADIATION'].plot(color=\"orange\", ax=axes[2][1])\n",
    "\n",
    "axes[0][0].set_ylabel(\"AMBIENT_TEMPERATURE\", rotation=90)\n",
    "axes[1][0].set_ylabel(\"MODULE_TEMPERATURE\", rotation=90)\n",
    "axes[2][0].set_ylabel(\"IRRADIATION\", rotation=90)\n",
    "\n",
    "plt.show()\n"
   ]
  },
  {
   "cell_type": "markdown",
   "metadata": {},
   "source": [
    "## 2.2. View heatmap by sources in time-range"
   ]
  },
  {
   "cell_type": "code",
   "execution_count": null,
   "metadata": {},
   "outputs": [],
   "source": [
    "fig, axes = plt.subplots(nrows=2, ncols=3, figsize=(10, 10))\n",
    "\n",
    "a0 = axes[0][0].imshow(groupsWeather01[\"AMBIENT_TEMPERATURE\"], cmap=\"inferno\")\n",
    "a1 = axes[0][1].imshow(groupsWeather01[\"MODULE_TEMPERATURE\"], cmap=\"inferno\")\n",
    "a2 = axes[0][2].imshow(groupsWeather01[\"IRRADIATION\"], cmap=\"inferno\")\n",
    "\n",
    "a3 = axes[1][0].imshow(groupsWeather02[\"AMBIENT_TEMPERATURE\"], cmap=\"inferno\")\n",
    "a4 = axes[1][1].imshow(groupsWeather02[\"MODULE_TEMPERATURE\"], cmap=\"inferno\")\n",
    "a5 = axes[1][2].imshow(groupsWeather02[\"IRRADIATION\"], cmap=\"inferno\")\n",
    "\n",
    "fig.colorbar(a0, ax=axes[0][0], location='right', anchor=(0, 0.3), shrink=0.7)\n",
    "fig.colorbar(a1, ax=axes[0][1], location='right', anchor=(0, 0.3), shrink=0.7)\n",
    "fig.colorbar(a2, ax=axes[0][2], location='right', anchor=(0, 0.3), shrink=0.7)\n",
    "fig.colorbar(a3, ax=axes[1][0], location='right', anchor=(0, 0.3), shrink=0.7)\n",
    "fig.colorbar(a4, ax=axes[1][1], location='right', anchor=(0, 0.3), shrink=0.7)\n",
    "fig.colorbar(a5, ax=axes[1][2], location='right', anchor=(0, 0.3), shrink=0.7)\n",
    "\n",
    "\n",
    "axes[0][0].set_ylabel(\"Weather 01\", rotation=90, size='large')\n",
    "axes[1][0].set_ylabel(\"Weather 02\", rotation=90, size='large')\n",
    "\n",
    "axes[0][0].set_title(\"AMBIENT_TEMPERATURE\")\n",
    "axes[0][1].set_title(\"MODULE_TEMPERATURE\")\n",
    "axes[0][2].set_title(\"IRRADIATION\")\n",
    "\n",
    "fig.tight_layout()\n",
    "plt.show()\n"
   ]
  },
  {
   "cell_type": "markdown",
   "metadata": {},
   "source": [
    "## 2.3. Visualization of missing elements\n"
   ]
  },
  {
   "cell_type": "code",
   "execution_count": null,
   "metadata": {},
   "outputs": [],
   "source": [
    "fig, axes = plt.subplots(nrows=2, ncols=3, figsize=(10, 10))\n",
    "\n",
    "plt.rcParams['figure.figsize'] = [15, 15]\n",
    "\n",
    "axes[0][0].imshow(groupsWeather01[\"AMBIENT_TEMPERATURE\"].isnull().values, cmap=\"inferno\")\n",
    "axes[0][1].imshow(groupsWeather01[\"MODULE_TEMPERATURE\"].isnull().values, cmap=\"inferno\")\n",
    "axes[0][2].imshow(groupsWeather01[\"IRRADIATION\"].isnull().values, cmap=\"inferno\")\n",
    "\n",
    "axes[1][0].imshow(groupsWeather02[\"AMBIENT_TEMPERATURE\"].isnull().values, cmap=\"inferno\")\n",
    "axes[1][1].imshow(groupsWeather02[\"MODULE_TEMPERATURE\"].isnull().values, cmap=\"inferno\")\n",
    "axes[1][2].imshow(groupsWeather02[\"IRRADIATION\"].isnull().values, cmap=\"inferno\")\n",
    "\n",
    "axes[0][0].set_ylabel(\"Weather 01\", rotation=90, size='large')\n",
    "axes[1][0].set_ylabel(\"Weather 02\", rotation=90, size='large')\n",
    "\n",
    "axes[0][0].set_title(\"AMBIENT_TEMPERATURE\")\n",
    "axes[0][1].set_title(\"MODULE_TEMPERATURE\")\n",
    "axes[0][2].set_title(\"IRRADIATION\")\n",
    "\n",
    "fig.tight_layout()\n",
    "plt.show()\n"
   ]
  },
  {
   "cell_type": "markdown",
   "metadata": {},
   "source": [
    "## 2.4. Interpolate"
   ]
  },
  {
   "cell_type": "code",
   "execution_count": null,
   "metadata": {},
   "outputs": [],
   "source": [
    "fig, axes = plt.subplots(nrows=2, ncols=3, figsize=(10, 10))\n",
    "\n",
    "a0 = axes[0][0].imshow(groupsWeather01[\"AMBIENT_TEMPERATURE\"].interpolate(\n",
    "    method=\"time\").interpolate(method=\"linear\", axis=1), cmap=\"inferno\")\n",
    "a1 = axes[0][1].imshow(groupsWeather01[\"MODULE_TEMPERATURE\"].interpolate(\n",
    "    method=\"time\").interpolate(method=\"linear\", axis=1), cmap=\"inferno\")\n",
    "a2 = axes[0][2].imshow(groupsWeather01[\"IRRADIATION\"].interpolate(\n",
    "    method=\"time\").interpolate(method=\"linear\", axis=1), cmap=\"inferno\")\n",
    "\n",
    "a3 = axes[1][0].imshow(groupsWeather02[\"AMBIENT_TEMPERATURE\"].interpolate(\n",
    "    method=\"time\").interpolate(method=\"linear\", axis=1), cmap=\"inferno\")\n",
    "a4 = axes[1][1].imshow(groupsWeather02[\"MODULE_TEMPERATURE\"].interpolate(\n",
    "    method=\"time\").interpolate(method=\"linear\", axis=1), cmap=\"inferno\")\n",
    "a5 = axes[1][2].imshow(groupsWeather02[\"IRRADIATION\"].interpolate(\n",
    "    method=\"time\").interpolate(method=\"linear\", axis=1), cmap=\"inferno\")\n",
    "\n",
    "fig.colorbar(a0, ax=axes[0][0], location='right', anchor=(0, 0.3), shrink=0.7)\n",
    "fig.colorbar(a1, ax=axes[0][1], location='right', anchor=(0, 0.3), shrink=0.7)\n",
    "fig.colorbar(a2, ax=axes[0][2], location='right', anchor=(0, 0.3), shrink=0.7)\n",
    "fig.colorbar(a3, ax=axes[1][0], location='right', anchor=(0, 0.3), shrink=0.7)\n",
    "fig.colorbar(a4, ax=axes[1][1], location='right', anchor=(0, 0.3), shrink=0.7)\n",
    "fig.colorbar(a5, ax=axes[1][2], location='right', anchor=(0, 0.3), shrink=0.7)\n",
    "\n",
    "\n",
    "axes[0][0].set_ylabel(\"Weather 01\", rotation=90, size='large')\n",
    "axes[1][0].set_ylabel(\"Weather 02\", rotation=90, size='large')\n",
    "\n",
    "axes[0][0].set_title(\"AMBIENT_TEMPERATURE\")\n",
    "axes[0][1].set_title(\"MODULE_TEMPERATURE\")\n",
    "axes[0][2].set_title(\"IRRADIATION\")\n",
    "\n",
    "fig.tight_layout()\n",
    "plt.show()\n"
   ]
  },
  {
   "cell_type": "markdown",
   "metadata": {},
   "source": [
    "# 3. Daily Yield"
   ]
  },
  {
   "cell_type": "markdown",
   "metadata": {},
   "source": [
    "## 3.1. Initial view\n"
   ]
  },
  {
   "cell_type": "code",
   "execution_count": null,
   "metadata": {},
   "outputs": [],
   "source": [
    "fig, axes = plt.subplots(nrows=2, ncols=1, figsize=(25, 5))\n",
    "\n",
    "axes[0].set_title(\"Gen 01\")\n",
    "dfGen01['DAILY_YIELD'].plot(color=\"red\", ax=axes[0])\n",
    "\n",
    "axes[1].set_title(\"Gen 02\")\n",
    "dfGen02['DAILY_YIELD'].plot(color=\"red\", ax=axes[1])\n",
    "\n",
    "plt.show()\n"
   ]
  },
  {
   "cell_type": "markdown",
   "metadata": {},
   "source": [
    "## 3.2. View heatmap by sources in time-range"
   ]
  },
  {
   "cell_type": "code",
   "execution_count": null,
   "metadata": {},
   "outputs": [],
   "source": [
    "square = math.ceil(\n",
    "    math.sqrt(\n",
    "        len(list(sourcesDailyYield[\"gen01\"].keys()))\n",
    "))\n",
    "\n",
    "fig, axes = plt.subplots(nrows=square, ncols=square, figsize=(20, 30))\n",
    "fig.tight_layout()\n",
    "\n",
    "for axesRow in axes:\n",
    "    for ax, source in zip(axesRow, sourcesDailyYield[\"gen01\"].items()):\n",
    "        ax.imshow(source[1], cmap=\"hot\",  interpolation='bilinear')\n",
    "        ax.set_ylabel(source[0])\n",
    "\n",
    "plt.show()"
   ]
  },
  {
   "cell_type": "markdown",
   "metadata": {},
   "source": [
    "## 3.3. Visualization of missing elements\n"
   ]
  },
  {
   "cell_type": "code",
   "execution_count": null,
   "metadata": {},
   "outputs": [],
   "source": [
    "square = math.ceil(\n",
    "    math.sqrt(\n",
    "        len(list(sourcesDailyYield[\"gen01\"].keys()))\n",
    "))\n",
    "\n",
    "fig, axes = plt.subplots(nrows=square, ncols=square, figsize=(20, 30))\n",
    "fig.tight_layout()\n",
    "\n",
    "for axesRow in axes:\n",
    "    for ax, source in zip(axesRow, sourcesDailyYield[\"gen01\"].items()):\n",
    "        ax.imshow(source[1].isnull().values, cmap=\"inferno\",  interpolation='bilinear')\n",
    "        ax.set_ylabel(source[0])\n",
    "\n",
    "plt.show()"
   ]
  },
  {
   "cell_type": "markdown",
   "metadata": {},
   "source": [
    "## 3.4. Interpolate"
   ]
  },
  {
   "cell_type": "code",
   "execution_count": null,
   "metadata": {},
   "outputs": [],
   "source": [
    "square = math.ceil(\n",
    "    math.sqrt(\n",
    "        len(list(sourcesDailyYield[\"gen01\"].keys()))\n",
    "))\n",
    "\n",
    "fig, axes = plt.subplots(nrows=square, ncols=square, figsize=(20, 30))\n",
    "fig.tight_layout()\n",
    "\n",
    "for axesRow in axes:\n",
    "    for ax, source in zip(axesRow, sourcesDailyYield[\"gen01\"].items()):\n",
    "        ax.imshow(\n",
    "            source[1].interpolate(\n",
    "                method=\"time\").interpolate(\n",
    "                    method=\"linear\", axis=1),\n",
    "            cmap=\"inferno\",\n",
    "            interpolation='bilinear'\n",
    "        )\n",
    "        ax.set_ylabel(source[0])\n",
    "\n",
    "plt.show()"
   ]
  }
 ],
 "metadata": {
  "interpreter": {
   "hash": "3014a5292071ca994bb818cd127461c536110eb9ed89296a2dc5b59e0827a9cb"
  },
  "kernelspec": {
   "display_name": "Python 3",
   "language": "python",
   "name": "python3"
  },
  "language_info": {
   "codemirror_mode": {
    "name": "ipython",
    "version": 3
   },
   "file_extension": ".py",
   "mimetype": "text/x-python",
   "name": "python",
   "nbconvert_exporter": "python",
   "pygments_lexer": "ipython3",
   "version": "3.9.6"
  }
 },
 "nbformat": 4,
 "nbformat_minor": 2
}
